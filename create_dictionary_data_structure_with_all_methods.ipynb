{
 "cells": [
  {
   "cell_type": "markdown",
   "id": "9f19f4de-22df-4ce0-8167-a48fca237e0a",
   "metadata": {},
   "source": [
    "# Creat dictionary data structure with all methods \n"
   ]
  },
  {
   "cell_type": "markdown",
   "id": "80762045-f412-4ead-9140-1bd580fd6405",
   "metadata": {},
   "source": [
    "**This is our code for above project and by running the code we have explained how all the methods works**"
   ]
  },
  {
   "cell_type": "code",
   "execution_count": 5,
   "id": "c79b9560-40a1-47df-98cd-edd73c17345e",
   "metadata": {},
   "outputs": [
    {
     "name": "stdout",
     "output_type": "stream",
     "text": [
      "\n",
      "Custom Dictionary Operations Menu:\n",
      "1. Add/Update a key-value pair\n",
      "2. Get a value by key\n",
      "3. Delete a key-value pair\n",
      "4. Pop the last inserted item\n",
      "5. Check if a key exists\n",
      "6. Get dictionary size\n",
      "7. Clear the dictionary\n",
      "8. Display all keys\n",
      "9. Display all values\n",
      "10. Display all items\n",
      "11. Update dictionary\n",
      "12. Set default for a key\n",
      "13. Copy dictionary\n",
      "14. Create dictionary from keys\n",
      "15. Display dictionary\n",
      "16. Exit\n"
     ]
    },
    {
     "name": "stdin",
     "output_type": "stream",
     "text": [
      "\n",
      "Enter your choice:  1\n",
      "Enter key:  name\n",
      "Enter value:  rajashri\n"
     ]
    },
    {
     "name": "stdout",
     "output_type": "stream",
     "text": [
      "Added: name -> rajashri\n",
      "\n",
      "Custom Dictionary Operations Menu:\n",
      "1. Add/Update a key-value pair\n",
      "2. Get a value by key\n",
      "3. Delete a key-value pair\n",
      "4. Pop the last inserted item\n",
      "5. Check if a key exists\n",
      "6. Get dictionary size\n",
      "7. Clear the dictionary\n",
      "8. Display all keys\n",
      "9. Display all values\n",
      "10. Display all items\n",
      "11. Update dictionary\n",
      "12. Set default for a key\n",
      "13. Copy dictionary\n",
      "14. Create dictionary from keys\n",
      "15. Display dictionary\n",
      "16. Exit\n"
     ]
    },
    {
     "name": "stdin",
     "output_type": "stream",
     "text": [
      "\n",
      "Enter your choice:  1\n",
      "Enter key:  program\n",
      "Enter value:  aiml\n"
     ]
    },
    {
     "name": "stdout",
     "output_type": "stream",
     "text": [
      "Added: program -> aiml\n",
      "\n",
      "Custom Dictionary Operations Menu:\n",
      "1. Add/Update a key-value pair\n",
      "2. Get a value by key\n",
      "3. Delete a key-value pair\n",
      "4. Pop the last inserted item\n",
      "5. Check if a key exists\n",
      "6. Get dictionary size\n",
      "7. Clear the dictionary\n",
      "8. Display all keys\n",
      "9. Display all values\n",
      "10. Display all items\n",
      "11. Update dictionary\n",
      "12. Set default for a key\n",
      "13. Copy dictionary\n",
      "14. Create dictionary from keys\n",
      "15. Display dictionary\n",
      "16. Exit\n"
     ]
    },
    {
     "name": "stdin",
     "output_type": "stream",
     "text": [
      "\n",
      "Enter your choice:  1\n",
      "Enter key:  prn\n",
      "Enter value:  52\n"
     ]
    },
    {
     "name": "stdout",
     "output_type": "stream",
     "text": [
      "Added: prn -> 52\n",
      "\n",
      "Custom Dictionary Operations Menu:\n",
      "1. Add/Update a key-value pair\n",
      "2. Get a value by key\n",
      "3. Delete a key-value pair\n",
      "4. Pop the last inserted item\n",
      "5. Check if a key exists\n",
      "6. Get dictionary size\n",
      "7. Clear the dictionary\n",
      "8. Display all keys\n",
      "9. Display all values\n",
      "10. Display all items\n",
      "11. Update dictionary\n",
      "12. Set default for a key\n",
      "13. Copy dictionary\n",
      "14. Create dictionary from keys\n",
      "15. Display dictionary\n",
      "16. Exit\n"
     ]
    },
    {
     "name": "stdin",
     "output_type": "stream",
     "text": [
      "\n",
      "Enter your choice:  1\n",
      "Enter key:  sub\n",
      "Enter value:  python\n"
     ]
    },
    {
     "name": "stdout",
     "output_type": "stream",
     "text": [
      "Added: sub -> python\n",
      "\n",
      "Custom Dictionary Operations Menu:\n",
      "1. Add/Update a key-value pair\n",
      "2. Get a value by key\n",
      "3. Delete a key-value pair\n",
      "4. Pop the last inserted item\n",
      "5. Check if a key exists\n",
      "6. Get dictionary size\n",
      "7. Clear the dictionary\n",
      "8. Display all keys\n",
      "9. Display all values\n",
      "10. Display all items\n",
      "11. Update dictionary\n",
      "12. Set default for a key\n",
      "13. Copy dictionary\n",
      "14. Create dictionary from keys\n",
      "15. Display dictionary\n",
      "16. Exit\n"
     ]
    },
    {
     "name": "stdin",
     "output_type": "stream",
     "text": [
      "\n",
      "Enter your choice:  15\n"
     ]
    },
    {
     "name": "stdout",
     "output_type": "stream",
     "text": [
      "Dictionary: {'name': 'rajashri', 'program': 'aiml', 'prn': '52', 'sub': 'python'}\n",
      "\n",
      "Custom Dictionary Operations Menu:\n",
      "1. Add/Update a key-value pair\n",
      "2. Get a value by key\n",
      "3. Delete a key-value pair\n",
      "4. Pop the last inserted item\n",
      "5. Check if a key exists\n",
      "6. Get dictionary size\n",
      "7. Clear the dictionary\n",
      "8. Display all keys\n",
      "9. Display all values\n",
      "10. Display all items\n",
      "11. Update dictionary\n",
      "12. Set default for a key\n",
      "13. Copy dictionary\n",
      "14. Create dictionary from keys\n",
      "15. Display dictionary\n",
      "16. Exit\n"
     ]
    },
    {
     "name": "stdin",
     "output_type": "stream",
     "text": [
      "\n",
      "Enter your choice:  6\n"
     ]
    },
    {
     "name": "stdout",
     "output_type": "stream",
     "text": [
      "Size of dictionary: 4\n",
      "\n",
      "Custom Dictionary Operations Menu:\n",
      "1. Add/Update a key-value pair\n",
      "2. Get a value by key\n",
      "3. Delete a key-value pair\n",
      "4. Pop the last inserted item\n",
      "5. Check if a key exists\n",
      "6. Get dictionary size\n",
      "7. Clear the dictionary\n",
      "8. Display all keys\n",
      "9. Display all values\n",
      "10. Display all items\n",
      "11. Update dictionary\n",
      "12. Set default for a key\n",
      "13. Copy dictionary\n",
      "14. Create dictionary from keys\n",
      "15. Display dictionary\n",
      "16. Exit\n"
     ]
    },
    {
     "name": "stdin",
     "output_type": "stream",
     "text": [
      "\n",
      "Enter your choice:  8\n"
     ]
    },
    {
     "name": "stdout",
     "output_type": "stream",
     "text": [
      "Keys: ['name', 'program', 'prn', 'sub']\n",
      "\n",
      "Custom Dictionary Operations Menu:\n",
      "1. Add/Update a key-value pair\n",
      "2. Get a value by key\n",
      "3. Delete a key-value pair\n",
      "4. Pop the last inserted item\n",
      "5. Check if a key exists\n",
      "6. Get dictionary size\n",
      "7. Clear the dictionary\n",
      "8. Display all keys\n",
      "9. Display all values\n",
      "10. Display all items\n",
      "11. Update dictionary\n",
      "12. Set default for a key\n",
      "13. Copy dictionary\n",
      "14. Create dictionary from keys\n",
      "15. Display dictionary\n",
      "16. Exit\n"
     ]
    },
    {
     "name": "stdin",
     "output_type": "stream",
     "text": [
      "\n",
      "Enter your choice:  9\n"
     ]
    },
    {
     "name": "stdout",
     "output_type": "stream",
     "text": [
      "Values: ['rajashri', 'aiml', '52', 'python']\n",
      "\n",
      "Custom Dictionary Operations Menu:\n",
      "1. Add/Update a key-value pair\n",
      "2. Get a value by key\n",
      "3. Delete a key-value pair\n",
      "4. Pop the last inserted item\n",
      "5. Check if a key exists\n",
      "6. Get dictionary size\n",
      "7. Clear the dictionary\n",
      "8. Display all keys\n",
      "9. Display all values\n",
      "10. Display all items\n",
      "11. Update dictionary\n",
      "12. Set default for a key\n",
      "13. Copy dictionary\n",
      "14. Create dictionary from keys\n",
      "15. Display dictionary\n",
      "16. Exit\n"
     ]
    },
    {
     "name": "stdin",
     "output_type": "stream",
     "text": [
      "\n",
      "Enter your choice:  11\n",
      "How many items to add to the dictionary?  1\n",
      "Enter key:  students\n",
      "Enter value:  122\n"
     ]
    },
    {
     "name": "stdout",
     "output_type": "stream",
     "text": [
      "Dictionary updated\n",
      "\n",
      "Custom Dictionary Operations Menu:\n",
      "1. Add/Update a key-value pair\n",
      "2. Get a value by key\n",
      "3. Delete a key-value pair\n",
      "4. Pop the last inserted item\n",
      "5. Check if a key exists\n",
      "6. Get dictionary size\n",
      "7. Clear the dictionary\n",
      "8. Display all keys\n",
      "9. Display all values\n",
      "10. Display all items\n",
      "11. Update dictionary\n",
      "12. Set default for a key\n",
      "13. Copy dictionary\n",
      "14. Create dictionary from keys\n",
      "15. Display dictionary\n",
      "16. Exit\n"
     ]
    },
    {
     "name": "stdin",
     "output_type": "stream",
     "text": [
      "\n",
      "Enter your choice:  2\n",
      "Enter key:  name\n",
      "Enter default value (optional):  mohini\n"
     ]
    },
    {
     "name": "stdout",
     "output_type": "stream",
     "text": [
      "rajashri\n",
      "\n",
      "Custom Dictionary Operations Menu:\n",
      "1. Add/Update a key-value pair\n",
      "2. Get a value by key\n",
      "3. Delete a key-value pair\n",
      "4. Pop the last inserted item\n",
      "5. Check if a key exists\n",
      "6. Get dictionary size\n",
      "7. Clear the dictionary\n",
      "8. Display all keys\n",
      "9. Display all values\n",
      "10. Display all items\n",
      "11. Update dictionary\n",
      "12. Set default for a key\n",
      "13. Copy dictionary\n",
      "14. Create dictionary from keys\n",
      "15. Display dictionary\n",
      "16. Exit\n"
     ]
    },
    {
     "name": "stdin",
     "output_type": "stream",
     "text": [
      "\n",
      "Enter your choice:  4\n"
     ]
    },
    {
     "name": "stdout",
     "output_type": "stream",
     "text": [
      "Removed: students -> 122\n",
      "\n",
      "Custom Dictionary Operations Menu:\n",
      "1. Add/Update a key-value pair\n",
      "2. Get a value by key\n",
      "3. Delete a key-value pair\n",
      "4. Pop the last inserted item\n",
      "5. Check if a key exists\n",
      "6. Get dictionary size\n",
      "7. Clear the dictionary\n",
      "8. Display all keys\n",
      "9. Display all values\n",
      "10. Display all items\n",
      "11. Update dictionary\n",
      "12. Set default for a key\n",
      "13. Copy dictionary\n",
      "14. Create dictionary from keys\n",
      "15. Display dictionary\n",
      "16. Exit\n"
     ]
    },
    {
     "name": "stdin",
     "output_type": "stream",
     "text": [
      "\n",
      "Enter your choice:  5\n",
      "Enter key to check:  strength\n"
     ]
    },
    {
     "name": "stdout",
     "output_type": "stream",
     "text": [
      "Key exists: False\n",
      "\n",
      "Custom Dictionary Operations Menu:\n",
      "1. Add/Update a key-value pair\n",
      "2. Get a value by key\n",
      "3. Delete a key-value pair\n",
      "4. Pop the last inserted item\n",
      "5. Check if a key exists\n",
      "6. Get dictionary size\n",
      "7. Clear the dictionary\n",
      "8. Display all keys\n",
      "9. Display all values\n",
      "10. Display all items\n",
      "11. Update dictionary\n",
      "12. Set default for a key\n",
      "13. Copy dictionary\n",
      "14. Create dictionary from keys\n",
      "15. Display dictionary\n",
      "16. Exit\n"
     ]
    },
    {
     "name": "stdin",
     "output_type": "stream",
     "text": [
      "\n",
      "Enter your choice:  3\n",
      "Enter key to delete:  course\n"
     ]
    },
    {
     "name": "stdout",
     "output_type": "stream",
     "text": [
      "Key not found\n",
      "\n",
      "Custom Dictionary Operations Menu:\n",
      "1. Add/Update a key-value pair\n",
      "2. Get a value by key\n",
      "3. Delete a key-value pair\n",
      "4. Pop the last inserted item\n",
      "5. Check if a key exists\n",
      "6. Get dictionary size\n",
      "7. Clear the dictionary\n",
      "8. Display all keys\n",
      "9. Display all values\n",
      "10. Display all items\n",
      "11. Update dictionary\n",
      "12. Set default for a key\n",
      "13. Copy dictionary\n",
      "14. Create dictionary from keys\n",
      "15. Display dictionary\n",
      "16. Exit\n"
     ]
    },
    {
     "name": "stdin",
     "output_type": "stream",
     "text": [
      "\n",
      "Enter your choice:  3\n",
      "Enter key to delete:  program\n"
     ]
    },
    {
     "name": "stdout",
     "output_type": "stream",
     "text": [
      "Removed: program -> aiml\n",
      "\n",
      "Custom Dictionary Operations Menu:\n",
      "1. Add/Update a key-value pair\n",
      "2. Get a value by key\n",
      "3. Delete a key-value pair\n",
      "4. Pop the last inserted item\n",
      "5. Check if a key exists\n",
      "6. Get dictionary size\n",
      "7. Clear the dictionary\n",
      "8. Display all keys\n",
      "9. Display all values\n",
      "10. Display all items\n",
      "11. Update dictionary\n",
      "12. Set default for a key\n",
      "13. Copy dictionary\n",
      "14. Create dictionary from keys\n",
      "15. Display dictionary\n",
      "16. Exit\n"
     ]
    },
    {
     "name": "stdin",
     "output_type": "stream",
     "text": [
      "\n",
      "Enter your choice:  13\n"
     ]
    },
    {
     "name": "stdout",
     "output_type": "stream",
     "text": [
      "Copied Dictionary: {'name': 'rajashri', 'prn': '52', 'sub': 'python'}\n",
      "\n",
      "Custom Dictionary Operations Menu:\n",
      "1. Add/Update a key-value pair\n",
      "2. Get a value by key\n",
      "3. Delete a key-value pair\n",
      "4. Pop the last inserted item\n",
      "5. Check if a key exists\n",
      "6. Get dictionary size\n",
      "7. Clear the dictionary\n",
      "8. Display all keys\n",
      "9. Display all values\n",
      "10. Display all items\n",
      "11. Update dictionary\n",
      "12. Set default for a key\n",
      "13. Copy dictionary\n",
      "14. Create dictionary from keys\n",
      "15. Display dictionary\n",
      "16. Exit\n"
     ]
    },
    {
     "name": "stdin",
     "output_type": "stream",
     "text": [
      "\n",
      "Enter your choice:  7\n"
     ]
    },
    {
     "name": "stdout",
     "output_type": "stream",
     "text": [
      "Dictionary cleared\n",
      "\n",
      "Custom Dictionary Operations Menu:\n",
      "1. Add/Update a key-value pair\n",
      "2. Get a value by key\n",
      "3. Delete a key-value pair\n",
      "4. Pop the last inserted item\n",
      "5. Check if a key exists\n",
      "6. Get dictionary size\n",
      "7. Clear the dictionary\n",
      "8. Display all keys\n",
      "9. Display all values\n",
      "10. Display all items\n",
      "11. Update dictionary\n",
      "12. Set default for a key\n",
      "13. Copy dictionary\n",
      "14. Create dictionary from keys\n",
      "15. Display dictionary\n",
      "16. Exit\n"
     ]
    },
    {
     "name": "stdin",
     "output_type": "stream",
     "text": [
      "\n",
      "Enter your choice:  6\n"
     ]
    },
    {
     "name": "stdout",
     "output_type": "stream",
     "text": [
      "Size of dictionary: 0\n",
      "\n",
      "Custom Dictionary Operations Menu:\n",
      "1. Add/Update a key-value pair\n",
      "2. Get a value by key\n",
      "3. Delete a key-value pair\n",
      "4. Pop the last inserted item\n",
      "5. Check if a key exists\n",
      "6. Get dictionary size\n",
      "7. Clear the dictionary\n",
      "8. Display all keys\n",
      "9. Display all values\n",
      "10. Display all items\n",
      "11. Update dictionary\n",
      "12. Set default for a key\n",
      "13. Copy dictionary\n",
      "14. Create dictionary from keys\n",
      "15. Display dictionary\n",
      "16. Exit\n"
     ]
    },
    {
     "name": "stdin",
     "output_type": "stream",
     "text": [
      "\n",
      "Enter your choice:  15\n"
     ]
    },
    {
     "name": "stdout",
     "output_type": "stream",
     "text": [
      "Dictionary: {}\n",
      "\n",
      "Custom Dictionary Operations Menu:\n",
      "1. Add/Update a key-value pair\n",
      "2. Get a value by key\n",
      "3. Delete a key-value pair\n",
      "4. Pop the last inserted item\n",
      "5. Check if a key exists\n",
      "6. Get dictionary size\n",
      "7. Clear the dictionary\n",
      "8. Display all keys\n",
      "9. Display all values\n",
      "10. Display all items\n",
      "11. Update dictionary\n",
      "12. Set default for a key\n",
      "13. Copy dictionary\n",
      "14. Create dictionary from keys\n",
      "15. Display dictionary\n",
      "16. Exit\n"
     ]
    },
    {
     "name": "stdin",
     "output_type": "stream",
     "text": [
      "\n",
      "Enter your choice:  16\n"
     ]
    },
    {
     "name": "stdout",
     "output_type": "stream",
     "text": [
      "Exiting the program. Goodbye!\n"
     ]
    }
   ],
   "source": [
    "class CustomDict:\n",
    "    def __init__(self):\n",
    "        \"\"\"Initialize an empty dictionary.\"\"\"\n",
    "        self.data = {}\n",
    "\n",
    "    def add(self, key, value):\n",
    "        \"\"\"Add or update a key-value pair.\"\"\"\n",
    "        self.data[key] = value\n",
    "        print(f\"Added: {key} -> {value}\")\n",
    "\n",
    "    def get(self, key, default=None):\n",
    "        \"\"\"Retrieve the value for a given key. Return default if not found.\"\"\"\n",
    "        return self.data.get(key, default)\n",
    "\n",
    "    def delete(self, key):\n",
    "        \"\"\"Remove a key-value pair.\"\"\"\n",
    "        if key in self.data:\n",
    "            removed_value = self.data.pop(key)\n",
    "            return f\"Removed: {key} -> {removed_value}\"\n",
    "        else:\n",
    "            return \"Key not found\"\n",
    "\n",
    "    def popitem(self):\n",
    "        \"\"\"Remove and return the last inserted key-value pair.\"\"\"\n",
    "        if self.data:\n",
    "            key, value = self.data.popitem()\n",
    "            return f\"Removed: {key} -> {value}\"\n",
    "        else:\n",
    "            return \"Dictionary is empty\"\n",
    "\n",
    "    def contains(self, key):\n",
    "        \"\"\"Check if a key exists in the dictionary.\"\"\"\n",
    "        return key in self.data\n",
    "\n",
    "    def size(self):\n",
    "        \"\"\"Return the number of key-value pairs.\"\"\"\n",
    "        return len(self.data)\n",
    "\n",
    "    def clear(self):\n",
    "        \"\"\"Remove all key-value pairs.\"\"\"\n",
    "        self.data.clear()\n",
    "        return \"Dictionary cleared\"\n",
    "\n",
    "    def keys(self):\n",
    "        \"\"\"Return all keys.\"\"\"\n",
    "        return list(self.data.keys())\n",
    "\n",
    "    def values(self):\n",
    "        \"\"\"Return all values.\"\"\"\n",
    "        return list(self.data.values())\n",
    "\n",
    "    def items(self):\n",
    "        \"\"\"Return all key-value pairs.\"\"\"\n",
    "        return list(self.data.items())\n",
    "\n",
    "    def update(self, other_dict):\n",
    "        \"\"\"Update the dictionary with another dictionary or key-value pairs.\"\"\"\n",
    "        self.data.update(other_dict)\n",
    "        return \"Dictionary updated\"\n",
    "\n",
    "    def setdefault(self, key, default=None):\n",
    "        \"\"\"Return the value of a key. If the key does not exist, insert it with the default value.\"\"\"\n",
    "        return self.data.setdefault(key, default)\n",
    "\n",
    "    def copy(self):\n",
    "        \"\"\"Return a shallow copy of the dictionary.\"\"\"\n",
    "        return self.data.copy()\n",
    "\n",
    "    def fromkeys(self, keys, value=None):\n",
    "        \"\"\"Create a new dictionary from a sequence of keys with a specified value.\"\"\"\n",
    "        self.data = dict.fromkeys(keys, value)\n",
    "        return self.data\n",
    "\n",
    "    def display(self):\n",
    "        \"\"\"Print the entire dictionary.\"\"\"\n",
    "        return self.data\n",
    "\n",
    "\n",
    "# Menu-based interaction\n",
    "if __name__ == \"__main__\":\n",
    "    custom_dict = CustomDict()\n",
    "\n",
    "    while True:\n",
    "        print(\"\\nCustom Dictionary Operations Menu:\")\n",
    "        print(\"1. Add/Update a key-value pair\")\n",
    "        print(\"2. Get a value by key\")\n",
    "        print(\"3. Delete a key-value pair\")\n",
    "        print(\"4. Pop the last inserted item\")\n",
    "        print(\"5. Check if a key exists\")\n",
    "        print(\"6. Get dictionary size\")\n",
    "        print(\"7. Clear the dictionary\")\n",
    "        print(\"8. Display all keys\")\n",
    "        print(\"9. Display all values\")\n",
    "        print(\"10. Display all items\")\n",
    "        print(\"11. Update dictionary\")\n",
    "        print(\"12. Set default for a key\")\n",
    "        print(\"13. Copy dictionary\")\n",
    "        print(\"14. Create dictionary from keys\")\n",
    "        print(\"15. Display dictionary\")\n",
    "        print(\"16. Exit\")\n",
    "\n",
    "        choice = int(input(\"\\nEnter your choice: \"))\n",
    "\n",
    "        if choice == 1:\n",
    "            key = input(\"Enter key: \")\n",
    "            value = input(\"Enter value: \")\n",
    "            custom_dict.add(key, value)\n",
    "\n",
    "        elif choice == 2:\n",
    "            key = input(\"Enter key: \")\n",
    "            default = input(\"Enter default value (optional): \")\n",
    "            print(custom_dict.get(key, default))\n",
    "\n",
    "        elif choice == 3:\n",
    "            key = input(\"Enter key to delete: \")\n",
    "            print(custom_dict.delete(key))\n",
    "\n",
    "        elif choice == 4:\n",
    "            print(custom_dict.popitem())\n",
    "\n",
    "        elif choice == 5:\n",
    "            key = input(\"Enter key to check: \")\n",
    "            print(f\"Key exists: {custom_dict.contains(key)}\")\n",
    "\n",
    "        elif choice == 6:\n",
    "            print(f\"Size of dictionary: {custom_dict.size()}\")\n",
    "\n",
    "        elif choice == 7:\n",
    "            print(custom_dict.clear())\n",
    "\n",
    "        elif choice == 8:\n",
    "            print(\"Keys:\", custom_dict.keys())\n",
    "\n",
    "        elif choice == 9:\n",
    "            print(\"Values:\", custom_dict.values())\n",
    "\n",
    "        elif choice == 10:\n",
    "            print(\"Items:\", custom_dict.items())\n",
    "\n",
    "        elif choice == 11:\n",
    "            num_items = int(input(\"How many items to add to the dictionary? \"))\n",
    "            other_dict = {}\n",
    "            for _ in range(num_items):\n",
    "                key = input(\"Enter key: \")\n",
    "                value = input(\"Enter value: \")\n",
    "                other_dict[key] = value\n",
    "            print(custom_dict.update(other_dict))\n",
    "\n",
    "        elif choice == 12:\n",
    "            key = input(\"Enter key: \")\n",
    "            default = input(\"Enter default value: \")\n",
    "            print(f\"Value: {custom_dict.setdefault(key, default)}\")\n",
    "\n",
    "        elif choice == 13:\n",
    "            copied_dict = custom_dict.copy()\n",
    "            print(\"Copied Dictionary:\", copied_dict)\n",
    "\n",
    "        elif choice == 14:\n",
    "            keys = input(\"Enter keys (comma-separated): \").split(\",\")\n",
    "            value = input(\"Enter default value for keys: \")\n",
    "            print(custom_dict.fromkeys(keys, value))\n",
    "\n",
    "        elif choice == 15:\n",
    "            print(\"Dictionary:\", custom_dict.display())\n",
    "\n",
    "        elif choice == 16:\n",
    "            print(\"Exiting the program. Goodbye!\")\n",
    "            break\n",
    "\n",
    "        else:\n",
    "            print(\"Invalid choice! Please try again.\")\n",
    "\n"
   ]
  },
  {
   "cell_type": "code",
   "execution_count": null,
   "id": "3366f1da-1c0d-43b7-9114-ba07e2c7cb57",
   "metadata": {},
   "outputs": [],
   "source": []
  }
 ],
 "metadata": {
  "kernelspec": {
   "display_name": "Python 3 (ipykernel)",
   "language": "python",
   "name": "python3"
  },
  "language_info": {
   "codemirror_mode": {
    "name": "ipython",
    "version": 3
   },
   "file_extension": ".py",
   "mimetype": "text/x-python",
   "name": "python",
   "nbconvert_exporter": "python",
   "pygments_lexer": "ipython3",
   "version": "3.12.4"
  }
 },
 "nbformat": 4,
 "nbformat_minor": 5
}
